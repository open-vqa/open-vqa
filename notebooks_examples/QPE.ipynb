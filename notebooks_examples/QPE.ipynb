{
 "cells": [
  {
   "cell_type": "markdown",
   "id": "d4061e4c-675c-4a2a-a6a0-594611c04a1a",
   "metadata": {},
   "source": [
    "### QPE for Spin Heisenberg lattice\n",
    "Exchange packages Qiskit to QLM to Cirq"
   ]
  },
  {
   "cell_type": "markdown",
   "id": "d3d895ad-e6c6-41fc-acaa-e241d9cc4453",
   "metadata": {},
   "source": [
    "In this notebook, we will show how we can use a tutorial provided by Devesh and Aman Gupta about QPE and performing exchange packages on this concept.\n",
    "\n",
    "https://darveshiyat.medium.com/implementing-quantum-phase-estimation-algorithm-using-qiskit-e808e8167d32 \n",
    "\n",
    "In exchange packages we will transform ciruits from qiskit to qlm to cirq and calculate the same eigenvalue in the 3 languages."
   ]
  },
  {
   "cell_type": "markdown",
   "id": "f51875da-be2a-4c7d-b7a6-76883850c9e3",
   "metadata": {},
   "source": [
    "### Outline\n",
    "<ol>\n",
    "    <li>Energy calculation using Qiskit</li>\n",
    "    <li>Energy calculation using QLM</li>\n",
    "    <li>Energy calculation using Cirq</li>\n",
    "    <li>Conclusion</li>\n",
    "    <li>References</li>\n",
    "</ol>"
   ]
  },
  {
   "cell_type": "markdown",
   "id": "fe81b364-931e-4d6e-a401-6fbddc751753",
   "metadata": {},
   "source": [
    "### Energy calculation using qiskit\n",
    "<hr>"
   ]
  },
  {
   "cell_type": "code",
   "execution_count": 34,
   "id": "eb90b03e-0e85-4c21-98b2-883121829888",
   "metadata": {},
   "outputs": [],
   "source": [
    "from qiskit import *\n",
    "#from qiskit.tools.jupyter import *\n",
    "from qiskit.visualization import *\n",
    "from qiskit.circuit.library import QFT"
   ]
  },
  {
   "cell_type": "markdown",
   "id": "ebf64b79-8e09-4ff8-962a-7addecc7abd0",
   "metadata": {},
   "source": [
    "First, a function to transform the operator we want to find its eigenvalue into a quantum gate is built."
   ]
  },
  {
   "cell_type": "code",
   "execution_count": 35,
   "id": "82a7b776-1b80-4b61-b5de-83131b79ed5b",
   "metadata": {},
   "outputs": [],
   "source": [
    "def qc(operator):\n",
    "    qubit_list = list(range(int(np.log(len(operator))\n",
    "                                /np.log(2)))) #extract the no. of qubits req. in circuit \n",
    "    qc = QuantumCircuit(len(qubit_list))\n",
    "    qc.unitary(operator,qubit_list)\n",
    "    return qc"
   ]
  },
  {
   "cell_type": "markdown",
   "id": "15f4fed5-d249-4d3e-80b9-0b94253dadbe",
   "metadata": {},
   "source": [
    "Before going on, it is worth explaining how QPE works:\n",
    "\n",
    "<ol>\n",
    "    <li>Controlls of the operator gate are performed</li>\n",
    "    <li>Inverse QFT is performed</li>\n",
    "</ol>"
   ]
  },
  {
   "cell_type": "code",
   "execution_count": 14,
   "id": "7d121490-d36b-4091-a1c9-cb0d878c7a28",
   "metadata": {},
   "outputs": [],
   "source": [
    "def my_qpe(w_qubits,s_qubits, gate, initial_state = None, trotter_number = 1):  \n",
    "    repetitions=1\n",
    "    #defining a qpe circuit\n",
    "    qpe_0 = QuantumCircuit(w_qubits+s_qubits,w_qubits)\n",
    "    if (initial_state.all() != None):\n",
    "        #initializing the state\n",
    "        qpe_0.initialize(initial_state,list(range(w_qubits,w_qubits+s_qubits))) \n",
    "    for i in range(w_qubits):\n",
    "        qpe_0.h(i)\n",
    "    #to perform trotterization\n",
    "    for j in range(trotter_number): \n",
    "        for counting_qubit in range(w_qubits):\n",
    "            #to perform U^k operations where k is repetitions\n",
    "            for i in range(repetitions):\n",
    "                qubit_list = [counting_qubit]+list(range(w_qubits,w_qubits+s_qubits))\n",
    "                qpe_0.append(gate,qubit_list)\n",
    "            repetitions *= 2\n",
    "        repetitions = 1\n",
    "    #used inbuilt qft to perform inverse qft and implemented swap \n",
    "    qpe_1 = QFT(w_qubits, 0, True , True)\n",
    "    l = [*range(w_qubits)]\n",
    "    #finally composed qpe0 and inverse qft \n",
    "    qpe = qpe_0.compose(qpe_1, l)\n",
    "    return qpe"
   ]
  },
  {
   "cell_type": "markdown",
   "id": "0b780e80-6de6-4663-bcce-4dabaac5bc8e",
   "metadata": {},
   "source": [
    "A function to find and plot the eigenvalue."
   ]
  },
  {
   "cell_type": "code",
   "execution_count": 36,
   "id": "db2a7bdb-ba4c-463e-8111-6127d80ce246",
   "metadata": {},
   "outputs": [],
   "source": [
    "def plot_to_eigenval(count,t,n=1):\n",
    "    w_qubits = len(list(count.keys())[0])\n",
    "    list_ = []\n",
    "    #if time step is zero then phase cannot be determined hence return a default 0\n",
    "    if t == 0: \n",
    "        display(0)\n",
    "    else:\n",
    "        #will choose n maximum count values\n",
    "        lists = sorted(count, key=count.get, reverse=True)[:n] \n",
    "        for j in range(len(lists)):\n",
    "            #convert those binary keys into decimal\n",
    "            lists[j] =  int(str(lists[j]), 2) \n",
    "        for j in range(len(lists)):\n",
    "            #for positive eigenvalues choose this equation\n",
    "            list_.append((2*pi*(2**w_qubits - lists[j]))/((2**w_qubits)*t))\n",
    "            # if it is negative then choose this value\n",
    "            lists[j] = -2*pi*(lists[j])/((2**w_qubits)*t) \n",
    "        return lists,list_"
   ]
  },
  {
   "cell_type": "markdown",
   "id": "4057f63b-bffa-407d-a986-a0ab92d51f42",
   "metadata": {},
   "source": [
    "The ising hamiltnian to simulate is\n",
    "\n",
    "$H$ = $0.33$*$Z_{0}$ + $3.24$*$Z_{1}$ + $1.17$$Z_{0}Z_{1}$"
   ]
  },
  {
   "cell_type": "code",
   "execution_count": 37,
   "id": "b9c268b2-d2bd-45a7-94a8-574fa39814e5",
   "metadata": {},
   "outputs": [],
   "source": [
    "import numpy as np\n",
    "from qiskit.opflow import X,Y,Z,I,CX\n",
    "pi = np.pi\n",
    "sin = np.sin\n",
    "cos = np.cos\n",
    "exp = np.exp\n",
    "\n",
    "# taking no. of trotter step = 1, as all the operators in H commutes in this case.\n",
    "trotter_number = 2\n",
    "t = 1 # delta t, time\n",
    "H = (0.33*t/trotter_number*Z^I)+(3.24*t/trotter_number*I^Z)+(1.17*t/trotter_number*Z^Z)\n",
    "U = H.exp_i() #obtaining the evolution operator for H with t = 1\n",
    "U = U.to_matrix()"
   ]
  },
  {
   "cell_type": "markdown",
   "id": "63a71673-9f91-4fa0-8912-d1c4ebdb4fe9",
   "metadata": {},
   "source": [
    "Now we run the circuit and calculate the eigenvalue."
   ]
  },
  {
   "cell_type": "code",
   "execution_count": 38,
   "id": "24341cf5-e895-4b63-bc3d-d8978b9e4e79",
   "metadata": {},
   "outputs": [
    {
     "name": "stderr",
     "output_type": "stream",
     "text": [
      "C:\\Users\\husse\\anaconda3\\envs\\openvqeQAOA\\lib\\site-packages\\qiskit\\visualization\\circuit\\matplotlib.py:266: FutureWarning: The default matplotlib drawer scheme will be changed to \"iqp\" in a following release. To silence this warning, specify the current default explicitly as style=\"clifford\", or the new default as style=\"iqp\".\n",
      "  self._style, def_font_ratio = load_style(self._style)\n"
     ]
    },
    {
     "data": {
      "image/png": "[encoded data removed]",
      "text/plain": [
       "<Figure size 1625.27x535.111 with 1 Axes>"
      ]
     },
     "metadata": {},
     "output_type": "display_data"
    },
    {
     "name": "stderr",
     "output_type": "stream",
     "text": [
      "C:\\Users\\husse\\AppData\\Local\\Temp\\ipykernel_5516\\2116444667.py:14: DeprecationWarning: The function ``qiskit.execute_function.execute()`` is deprecated as of qiskit 0.46.0. It will be removed in the Qiskit 1.0 release. This function combines ``transpile`` and ``backend.run``, which is covered by ``Sampler`` :mod:`~qiskit.primitives`. Alternatively, you can also run :func:`.transpile` followed by ``backend.run()``.\n",
      "  result = execute(qpe, backend = simulator, shots = 8192).result()\n"
     ]
    },
    {
     "name": "stdout",
     "output_type": "stream",
     "text": [
      "Energy eigenvalue for state v[0] is = 4.71238898038469\n"
     ]
    }
   ],
   "source": [
    "w_qubits = 3\n",
    "s_qubits = 2\n",
    "#defining intial state of system\n",
    "initial_state = np.array([1, 0, 0, 0])\n",
    "#defining evolution gate(U = e^{iHt}) for H\n",
    "U_gate = qc(U).to_gate(label = 'U').control(1)\n",
    "qpe = my_qpe(w_qubits,s_qubits, U_gate, \n",
    "             initial_state = initial_state,trotter_number = trotter_number)\n",
    "display(qpe.draw('mpl'))\n",
    "\n",
    "qpe.measure([0,1,2],[0,1,2])\n",
    "\n",
    "simulator = Aer.get_backend('qasm_simulator')\n",
    "result = execute(qpe, backend = simulator, shots = 8192).result()\n",
    "count = result.get_counts(qpe)\n",
    "print('Energy eigenvalue for state v[0] is =', plot_to_eigenval(count,t = 1)[1][0])"
   ]
  },
  {
   "cell_type": "markdown",
   "id": "3467b9bd-c9b0-4d85-816a-1cc769faa9a6",
   "metadata": {},
   "source": [
    "### Energy calculation using QLM\n",
    "<hr>"
   ]
  },
  {
   "cell_type": "markdown",
   "id": "e344c40f-2a6c-43de-a579-41d2271add1f",
   "metadata": {},
   "source": [
    "Not all gates are supported by QLM, so we change the gates in the circuit into basis gates supported by QLM."
   ]
  },
  {
   "cell_type": "code",
   "execution_count": 40,
   "id": "0d1a1ffa-2fc5-452b-9f28-09002e40705e",
   "metadata": {},
   "outputs": [],
   "source": [
    "from qiskit.compiler import transpile\n",
    "\n",
    "basis_gates = ['rx', 'u2', 'cx', 'ry', 'h', 'rz', 'P']\n",
    "\n",
    "qc_trans = transpile(qpe, basis_gates=basis_gates)\n",
    "#qc_trans.draw()"
   ]
  },
  {
   "cell_type": "markdown",
   "id": "c754a4fc-d58f-4742-b2f4-216253e27003",
   "metadata": {},
   "source": [
    "We now change the circuit from qiskit to QLM circuit."
   ]
  },
  {
   "cell_type": "code",
   "execution_count": 41,
   "id": "e8bff152-f2df-4fa7-b83c-310567828de3",
   "metadata": {},
   "outputs": [],
   "source": [
    "from qat.lang import *\n",
    "from qat import *\n",
    "from qat.interop.qiskit import qiskit_to_qlm\n",
    "\n",
    "qlm_circuit = qiskit_to_qlm(qc_trans)"
   ]
  },
  {
   "cell_type": "markdown",
   "id": "ff16ab96-ab9c-4294-8260-b1c1a4316fdc",
   "metadata": {},
   "source": [
    "The next step is simply finding the measured bit string that has the highest probability."
   ]
  },
  {
   "cell_type": "code",
   "execution_count": 42,
   "id": "b5a7e132-dd35-4324-a1d1-07ab0198d387",
   "metadata": {},
   "outputs": [
    {
     "name": "stdout",
     "output_type": "stream",
     "text": [
      "State |01000>: probability 0.99 +/- 0.010000000000000005\n",
      "State |10100>: probability 0.01 +/- 0.01\n"
     ]
    }
   ],
   "source": [
    "from qat.qpus import get_default_qpu\n",
    "\n",
    "job = qlm_circuit.to_job(nbshots=100)\n",
    "\n",
    "# Execute\n",
    "result = get_default_qpu().submit(job)\n",
    "for sample in result:\n",
    "    print(\"State %s: probability %s +/- %s\" % (sample.state, sample.probability, sample.err))"
   ]
  },
  {
   "cell_type": "markdown",
   "id": "fb7daa10-fe4e-467d-918f-e1e8660dc2f3",
   "metadata": {},
   "source": [
    "The string '00010' had the highest probability."
   ]
  },
  {
   "cell_type": "code",
   "execution_count": 43,
   "id": "a0479601-aad6-4c54-b9ed-7b7198b7c8bc",
   "metadata": {},
   "outputs": [],
   "source": [
    "value_sampled = int('00010', 2)"
   ]
  },
  {
   "cell_type": "markdown",
   "id": "8357e51d-fab6-4b30-bbe5-15e936521f59",
   "metadata": {},
   "source": [
    "After transforming this string into an int, we use the following equation and we can clearly see that we got the same value as in qiskit."
   ]
  },
  {
   "cell_type": "code",
   "execution_count": 44,
   "id": "5f17b206-0531-47bd-8fe6-593daf4fe197",
   "metadata": {},
   "outputs": [
    {
     "data": {
      "text/plain": [
       "4.71238898038469"
      ]
     },
     "execution_count": 44,
     "metadata": {},
     "output_type": "execute_result"
    }
   ],
   "source": [
    "2*pi*(2**w_qubits - value_sampled)/((2**w_qubits)*t)"
   ]
  },
  {
   "cell_type": "markdown",
   "id": "ea6dba1e-1d73-457a-b0f6-48c692a3ed8e",
   "metadata": {},
   "source": [
    "### Energy calculation using cirq\n",
    "<hr>"
   ]
  },
  {
   "cell_type": "markdown",
   "id": "6014718a-737a-49a1-bd38-fd30b453c119",
   "metadata": {},
   "source": [
    "First, we transform the QLM circuit into a cirq circuit."
   ]
  },
  {
   "cell_type": "code",
   "execution_count": 45,
   "id": "ca7a889f-58b1-4d5b-9133-e7a34ce3c4e7",
   "metadata": {},
   "outputs": [],
   "source": [
    "from qat.interop.cirq import qlm_to_cirq\n",
    "cirq_circuit = qlm_to_cirq(qlm_circuit)"
   ]
  },
  {
   "cell_type": "markdown",
   "id": "d9da4519-f3a6-4943-b0e3-f9ab68cbd4b0",
   "metadata": {},
   "source": [
    "We have 2 ways to get the resulting bit string, in the first example we use the following cell, we can see that we got the following string which is '01000', we might notice that it is different from that of qiskit, mainly reversed and that is normal since qiskit reads the string in reverse, so it should be reversed, '00010', so we get the same string."
   ]
  },
  {
   "cell_type": "code",
   "execution_count": 47,
   "id": "0aa6d982-0e8e-43a7-a2b3-77ed4314c7a0",
   "metadata": {},
   "outputs": [
    {
     "name": "stdout",
     "output_type": "stream",
     "text": [
      "Simulate the circuit:\n",
      "measurements: q(1)=0 q(2)=1 q(3)=0 q(4)=0 q(5)=0\n",
      "\n",
      "qubits: (cirq.LineQubit(1),)\n",
      "output vector: |0⟩\n",
      "\n",
      "qubits: (cirq.LineQubit(2),)\n",
      "output vector: |1⟩\n",
      "\n",
      "qubits: (cirq.LineQubit(3),)\n",
      "output vector: |0⟩\n",
      "\n",
      "qubits: (cirq.LineQubit(4),)\n",
      "output vector: (-0.774+0.633j)|0⟩\n",
      "\n",
      "qubits: (cirq.LineQubit(5),)\n",
      "output vector: |0⟩\n",
      "\n",
      "phase:\n",
      "output vector: |⟩\n"
     ]
    }
   ],
   "source": [
    "s = cirq.Simulator()\n",
    "\n",
    "print('Simulate the circuit:')\n",
    "results = s.simulate(cirq_circuit)\n",
    "print(results)"
   ]
  },
  {
   "cell_type": "markdown",
   "id": "9bf44cac-4144-4238-8d4e-2da2e7fed473",
   "metadata": {},
   "source": [
    "We now use 3 qubits to add measurements at the end of the circuit for the simulator to work and get the samples."
   ]
  },
  {
   "cell_type": "code",
   "execution_count": 48,
   "id": "5e78708c-cab2-4736-b761-18737e2b5132",
   "metadata": {},
   "outputs": [],
   "source": [
    "import cirq\n",
    "q0, q1, q2 = cirq.LineQubit.range(3)"
   ]
  },
  {
   "cell_type": "markdown",
   "id": "bbc85615-78cc-4c18-a2ff-3b7939567a15",
   "metadata": {},
   "source": [
    "We append measurementes to the end of the circuit using the newly defined qubits, q0, q1 and q2."
   ]
  },
  {
   "cell_type": "code",
   "execution_count": 49,
   "id": "ef074a3a-15fe-4b0d-bd70-9a97c9a52b2e",
   "metadata": {},
   "outputs": [],
   "source": [
    "cirq_circuit.append(cirq.measure(q0, q1, q2, key='result'))"
   ]
  },
  {
   "cell_type": "markdown",
   "id": "94425b96-83d1-4b6e-935f-6b2ed4dff614",
   "metadata": {},
   "source": [
    "Now we use run instead of simulate."
   ]
  },
  {
   "cell_type": "code",
   "execution_count": 50,
   "id": "85c266be-2f28-43ae-899e-9a466cd31e6b",
   "metadata": {},
   "outputs": [],
   "source": [
    "samples = s.run(cirq_circuit, repetitions=1)"
   ]
  },
  {
   "cell_type": "markdown",
   "id": "587cc3e5-6150-4431-a92b-77954785cb42",
   "metadata": {},
   "source": [
    "We can see that we get another time the correct bit string '00010', and we get it 2 times the same. We can of course specify the number of repetitions as we want. Here we defined above to repeat 1 extra time."
   ]
  },
  {
   "cell_type": "code",
   "execution_count": 52,
   "id": "056e904d-59b4-4818-aa57-f95c66796e62",
   "metadata": {},
   "outputs": [
    {
     "data": {
      "text/plain": [
       "q(1)=0\n",
       "q(1)=0\n",
       "q(2)=1\n",
       "q(2)=1\n",
       "q(3)=0\n",
       "q(3)=0\n",
       "q(4)=0\n",
       "q(5)=0\n",
       "result=0, 0, 1"
      ]
     },
     "execution_count": 52,
     "metadata": {},
     "output_type": "execute_result"
    }
   ],
   "source": [
    "samples"
   ]
  },
  {
   "cell_type": "markdown",
   "id": "7ab97ce5-9885-43a2-b7ad-638db4dacca6",
   "metadata": {},
   "source": [
    "### Conclusion\n",
    "<hr>"
   ]
  },
  {
   "cell_type": "markdown",
   "id": "1890b1e3-0c74-41df-b1f7-61234e09866c",
   "metadata": {},
   "source": [
    "We can clearly see that we were able to get the same measure bit string in the end using 3 different quantum programming languages. This shows the power of the MyQLM library and the concept of exchange packages."
   ]
  },
  {
   "cell_type": "markdown",
   "id": "3498acbf-f96f-4002-a9d9-d11d87d99c75",
   "metadata": {},
   "source": [
    "### References\n",
    "<hr>"
   ]
  },
  {
   "cell_type": "markdown",
   "id": "2b0e0d3a-dcfa-4d07-9cac-3948ed5af21d",
   "metadata": {},
   "source": [
    "<ol>\n",
    "    <li>Qiskit Operators: <a href=\"https://qiskit-org-web-resources.s3.us.cloud-object-storage.appdomain.cloud/documentation/stable/0.19/tutorials/circuits_advanced/2_operators_overview.html\">link</a></li>\n",
    "    <li>Cirq Simulator: <a href=\"https://quantumai.google/cirq/simulate/simulation\">link</a></li>\n",
    "    <li>MyQLM Documentation: <a href=\"https://myqlm.github.io/01_getting_started/%3Amyqlm%3A01_install.html\">link</a></li>\n",
    "</ol>"
   ]
  },
  {
   "cell_type": "code",
   "execution_count": null,
   "id": "b8e2924f-07ba-4836-87d8-d4ef8c3b894a",
   "metadata": {},
   "outputs": [],
   "source": []
  }
 ],
 "metadata": {
  "kernelspec": {
   "display_name": "Python 3 (ipykernel)",
   "language": "python",
   "name": "python3"
  },
  "language_info": {
   "codemirror_mode": {
    "name": "ipython",
    "version": 3
   },
   "file_extension": ".py",
   "mimetype": "text/x-python",
   "name": "python",
   "nbconvert_exporter": "python",
   "pygments_lexer": "ipython3",
   "version": "3.10.12"
  }
 },
 "nbformat": 4,
 "nbformat_minor": 5
}
